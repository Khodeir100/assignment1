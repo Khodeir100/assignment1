{
 "cells": [
  {
   "cell_type": "code",
   "execution_count": 53,
   "id": "a29df8db-5dc3-4cd3-a920-f917cc5cf460",
   "metadata": {},
   "outputs": [
    {
     "name": "stdout",
     "output_type": "stream",
     "text": [
      "<class 'int'>\n"
     ]
    }
   ],
   "source": [
    "x=5\n",
    "print(type(x))"
   ]
  },
  {
   "cell_type": "code",
   "execution_count": 54,
   "id": "8b0bdb56-680c-4b53-b641-254eb396496d",
   "metadata": {},
   "outputs": [
    {
     "name": "stdout",
     "output_type": "stream",
     "text": [
      "<class 'str'>\n"
     ]
    }
   ],
   "source": [
    "x=\"Hello World\"\n",
    "print(type(x))"
   ]
  },
  {
   "cell_type": "code",
   "execution_count": 55,
   "id": "9f78d63d-b6c6-4c05-b751-a224104929ce",
   "metadata": {},
   "outputs": [
    {
     "name": "stdout",
     "output_type": "stream",
     "text": [
      "<class 'float'>\n"
     ]
    }
   ],
   "source": [
    "x=20.5\n",
    "print(type(x))"
   ]
  },
  {
   "cell_type": "code",
   "execution_count": 56,
   "id": "97bb0ca8-61c4-4166-98ab-32030ee78f2f",
   "metadata": {},
   "outputs": [
    {
     "name": "stdout",
     "output_type": "stream",
     "text": [
      "<class 'list'>\n"
     ]
    }
   ],
   "source": [
    "x=[\"apple\",\"banana\",\"cherry\"]\n",
    "print(type(x))"
   ]
  },
  {
   "cell_type": "code",
   "execution_count": 57,
   "id": "a5932b31-605a-49a5-bc96-655b1d047ecb",
   "metadata": {},
   "outputs": [
    {
     "name": "stdout",
     "output_type": "stream",
     "text": [
      "<class 'tuple'>\n"
     ]
    }
   ],
   "source": [
    "x=(\"apple\",\"banana\",\"cherry\")\n",
    "print(type(x))"
   ]
  },
  {
   "cell_type": "code",
   "execution_count": 58,
   "id": "eba7a11d-af61-4582-875c-a673eb6c8150",
   "metadata": {},
   "outputs": [
    {
     "name": "stdout",
     "output_type": "stream",
     "text": [
      "<class 'dict'>\n"
     ]
    }
   ],
   "source": [
    "x={\"name\":\"john\",\"age\":36}\n",
    "print(type(x))"
   ]
  },
  {
   "cell_type": "code",
   "execution_count": 59,
   "id": "0eb8c459-5369-4b73-8552-396a7be4b9ce",
   "metadata": {},
   "outputs": [
    {
     "name": "stdout",
     "output_type": "stream",
     "text": [
      "<class 'bool'>\n"
     ]
    }
   ],
   "source": [
    "x=True\n",
    "print(type(x))"
   ]
  },
  {
   "cell_type": "code",
   "execution_count": 60,
   "id": "7ee2e9ae-3b9b-4123-8484-fcd0a395554c",
   "metadata": {},
   "outputs": [
    {
     "name": "stdout",
     "output_type": "stream",
     "text": [
      "5.0\n"
     ]
    }
   ],
   "source": [
    "x=5\n",
    "x=float(x)\n",
    "print(x)"
   ]
  },
  {
   "cell_type": "code",
   "execution_count": 61,
   "id": "1e03ed98-581a-4869-8eac-be6ef8aefead",
   "metadata": {},
   "outputs": [
    {
     "name": "stdout",
     "output_type": "stream",
     "text": [
      "5\n"
     ]
    }
   ],
   "source": [
    "x=5.5\n",
    "x=int(x)\n",
    "print(x)"
   ]
  },
  {
   "cell_type": "code",
   "execution_count": 62,
   "id": "fe8c8e0e-d6ad-4863-91d8-8b2a9d8e69b5",
   "metadata": {},
   "outputs": [
    {
     "name": "stdout",
     "output_type": "stream",
     "text": [
      "11\n"
     ]
    }
   ],
   "source": [
    "x=\"Hello World\"\n",
    "print(len(x))"
   ]
  },
  {
   "cell_type": "code",
   "execution_count": 63,
   "id": "f878ef79-0c7c-4af6-b547-24a132ef77f5",
   "metadata": {},
   "outputs": [
    {
     "name": "stdout",
     "output_type": "stream",
     "text": [
      "H\n"
     ]
    }
   ],
   "source": [
    "txt=\"Hello World\"\n",
    "x=txt[0]\n",
    "print(x)"
   ]
  },
  {
   "cell_type": "code",
   "execution_count": 64,
   "id": "c0e3e9c3-a8d9-419a-b920-2ff663ff6ff6",
   "metadata": {},
   "outputs": [
    {
     "name": "stdout",
     "output_type": "stream",
     "text": [
      "llo\n"
     ]
    }
   ],
   "source": [
    "txt=\"Hello World\"\n",
    "x=txt[2:5]\n",
    "print(x)"
   ]
  },
  {
   "cell_type": "code",
   "execution_count": 65,
   "id": "dc2ad390-49f2-4206-a8c6-dc3bbc60c825",
   "metadata": {},
   "outputs": [
    {
     "name": "stdout",
     "output_type": "stream",
     "text": [
      "Hello World\n"
     ]
    }
   ],
   "source": [
    "txt=\" Hello World \"\n",
    "x=txt.strip()\n",
    "print(x)"
   ]
  },
  {
   "cell_type": "code",
   "execution_count": 66,
   "id": "50e3184c-f1db-4862-95d7-1b03ec02ad96",
   "metadata": {},
   "outputs": [
    {
     "name": "stdout",
     "output_type": "stream",
     "text": [
      "HELLO WORLD\n"
     ]
    }
   ],
   "source": [
    "txt=\"Hello World\"\n",
    "print(txt.upper())"
   ]
  },
  {
   "cell_type": "code",
   "execution_count": 67,
   "id": "5f5e3289-d269-4474-9ea8-ce5e3b712ecc",
   "metadata": {},
   "outputs": [
    {
     "name": "stdout",
     "output_type": "stream",
     "text": [
      "hello world\n"
     ]
    }
   ],
   "source": [
    "txt=\"HELLO WORLD\"\n",
    "print(txt.lower())"
   ]
  },
  {
   "cell_type": "code",
   "execution_count": 68,
   "id": "02dadca2-dd10-4bcd-af74-7bb1c8946e05",
   "metadata": {},
   "outputs": [
    {
     "name": "stdout",
     "output_type": "stream",
     "text": [
      "Jello World\n"
     ]
    }
   ],
   "source": [
    "txt=\"Hello World\"\n",
    "print(txt.replace(\"H\",\"J\"))"
   ]
  },
  {
   "cell_type": "code",
   "execution_count": 69,
   "id": "a98bd20e-5c7d-44d1-b2aa-388cb60fe01a",
   "metadata": {},
   "outputs": [
    {
     "name": "stdout",
     "output_type": "stream",
     "text": [
      "my name is john, and I'm 36\n"
     ]
    }
   ],
   "source": [
    "age=36\n",
    "print(f\"my name is john, and I'm {age}\")"
   ]
  },
  {
   "cell_type": "code",
   "execution_count": 70,
   "id": "228d7180-18db-4106-b550-900578d10d16",
   "metadata": {},
   "outputs": [
    {
     "name": "stdout",
     "output_type": "stream",
     "text": [
      "['mohamed', 'mostafa', 'mohamed']\n",
      "['salah', 'mohamed', 'elneny']\n",
      "['elneny', 'mohamed', 'mohamed', 'mostafa', 'salah', 'mohamed']\n",
      "elneny mohamed mohamed mostafa salah mohamed\n"
     ]
    }
   ],
   "source": [
    "name=\"mohamed salah mostafa mohamed mohamed elneny\"\n",
    "x=name.split()\n",
    "first_name=x[0::2]\n",
    "last_name=x[1::2]\n",
    "print(first_name)\n",
    "print(last_name)\n",
    "y=x.reverse()\n",
    "print(x)\n",
    "sentence=' '.join(x)\n",
    "print(sentence)"
   ]
  },
  {
   "cell_type": "code",
   "execution_count": 71,
   "id": "be546d3b-fb3a-49f2-b569-49eec6c343b3",
   "metadata": {},
   "outputs": [
    {
     "name": "stdout",
     "output_type": "stream",
     "text": [
      "['a', 'm', 'i', 't']\n",
      "('a', 'm', 'i', 't')\n",
      "['a', 'm', 'i', 's']\n"
     ]
    }
   ],
   "source": [
    "x=\"amit\"\n",
    "y=list(x)\n",
    "z=tuple(x)\n",
    "print(y)\n",
    "print(z)\n",
    "y[3]=\"s\"\n",
    "print(y)"
   ]
  },
  {
   "cell_type": "code",
   "execution_count": 72,
   "id": "64011c9c-e211-48e8-8e47-829618e3b889",
   "metadata": {},
   "outputs": [
    {
     "name": "stdout",
     "output_type": "stream",
     "text": [
      "red black\n"
     ]
    }
   ],
   "source": [
    "color_list=[\"red\",\"green\",\"white\",\"black\"]\n",
    "x=color_list[0]\n",
    "y=color_list[-1]\n",
    "print(x,y)"
   ]
  },
  {
   "cell_type": "code",
   "execution_count": 73,
   "id": "8aa8102f-dc65-469b-98b3-50a4e58fb505",
   "metadata": {},
   "outputs": [
    {
     "name": "stdout",
     "output_type": "stream",
     "text": [
      "java\n"
     ]
    }
   ],
   "source": [
    "file_name=\"abc.java\"\n",
    "x=file_name.split(\".\")\n",
    "print(x[1])"
   ]
  },
  {
   "cell_type": "code",
   "execution_count": 74,
   "id": "9f647cf9-9180-4074-b626-898d9c32096e",
   "metadata": {},
   "outputs": [
    {
     "name": "stdout",
     "output_type": "stream",
     "text": [
      "True\n",
      "True\n"
     ]
    }
   ],
   "source": [
    "name1=\"https://www.google.com/\"\n",
    "name2=\"aimt4536@gmail.com\"\n",
    "print(name1.startswith(\"https\"))\n",
    "print(name2.endswith(\".com\"))"
   ]
  },
  {
   "cell_type": "code",
   "execution_count": 75,
   "id": "85028735-2439-4bbd-9610-c6b3209b94a7",
   "metadata": {},
   "outputs": [],
   "source": [
    "#can't solve the exercise below"
   ]
  },
  {
   "attachments": {
    "076bd3c5-79df-45ce-b827-711d7a38ab13.png": {
     "image/png": "[encoded data removed]"
    }
   },
   "cell_type": "markdown",
   "id": "273cfcc5-857c-4821-a14e-c2b017f294c0",
   "metadata": {},
   "source": [
    "![image.png](attachment:076bd3c5-79df-45ce-b827-711d7a38ab13.png)"
   ]
  },
  {
   "attachments": {
    "04dbe526-96a7-4b59-a2cb-8f8829f0fe50.png": {
     "image/png": "[encoded data removed]"
    }
   },
   "cell_type": "markdown",
   "id": "fb0f2256-8bc9-494e-9600-f3bbc10c7d83",
   "metadata": {},
   "source": [
    "![image.png](attachment:04dbe526-96a7-4b59-a2cb-8f8829f0fe50.png)"
   ]
  },
  {
   "cell_type": "code",
   "execution_count": null,
   "id": "d1bd0715-6ddf-425c-b19a-d01d9fd177b4",
   "metadata": {},
   "outputs": [],
   "source": []
  }
 ],
 "metadata": {
  "kernelspec": {
   "display_name": "Python 3 (ipykernel)",
   "language": "python",
   "name": "python3"
  },
  "language_info": {
   "codemirror_mode": {
    "name": "ipython",
    "version": 3
   },
   "file_extension": ".py",
   "mimetype": "text/x-python",
   "name": "python",
   "nbconvert_exporter": "python",
   "pygments_lexer": "ipython3",
   "version": "3.11.7"
  }
 },
 "nbformat": 4,
 "nbformat_minor": 5
}
